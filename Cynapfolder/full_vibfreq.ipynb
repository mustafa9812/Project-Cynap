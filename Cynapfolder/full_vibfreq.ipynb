{
 "cells": [
  {
   "cell_type": "code",
   "execution_count": 16,
   "id": "87a07976",
   "metadata": {},
   "outputs": [
    {
     "name": "stdout",
     "output_type": "stream",
     "text": [
      "=========================================================\n",
      "                 AmesPAHdbPythonSuite\n",
      "                 \n",
      "                          by\n",
      "                          \n",
      "                Dr. Christiaan Boersma\n",
      "                \n",
      "                          and\n",
      "                         \n",
      "             Dr. Alexandros Maragkoudakis\n",
      "             \n",
      "               Dr. Matthew J. Shannanon\n",
      "               \n",
      "                  Dr. Joseph E. Roser\n",
      "                 \n",
      "=========================================================\n",
      "\n",
      "=========================================================\n",
      "          SUITE VERSION: 0.5.0.post75+g22706ce         \n",
      "=========================================================\n",
      "\n",
      "=========================================================\n",
      "           WEBSITE: WWW.ASTROCHEM.ORG/PAHDB/           \n",
      "=========================================================\n",
      "\n",
      "=========================================================\n",
      "          CONTACT: CHRISTIAAN.BOERSMA@NASA.GOV         \n",
      "=========================================================\n",
      "\n",
      "=========================================================\n",
      "             RESTORING DATABASE FROM CACHE             \n",
      "=========================================================\n",
      "\n",
      "==\n",
      "FILENAME                    : C:\\Users\\Mustafa\\AppData\\Local\\Temp/5f2987552b21bc98ef167d197b868772.pkl\n",
      "ORIGNINAL FILENAME          : /Users/Mustafa/Documents/GitHub/Project-Cynap/Cynapfolder/Database/pahdb-complete-theoretical-v4.00-alpha.xml\n",
      "PARSE TIME                  : 0:00:32.881685\n",
      "DATABASE                    : theoretical\n",
      "VERSION (DATE)              : 4.00-alpha (2023-06-20)\n",
      "COMMENT                     : \n",
      "\n",
      "This is the NASA Ames PAH IR Spectroscopic Database. The contents of\n",
      "the database are described in Bauschlicher et al. (2010), Boersma et\n",
      "al. (2014) and Mattioda et al. (2020). The database website is located\n",
      "at http://www.astrochemistry.org/pahdb/.\n",
      "\n",
      "You are kindly asked to cite the following papers when using the database:\n",
      "\n",
      "    Boersma, C., Bauschlicher, C.W., Jr., Ricca, A., Mattioda, A. L.,\n",
      "    Cami, J., Peeters, E., Sánchez de Armas, F., Puerta Saborido, G.,\n",
      "    Hudgins, D M., and Allamandola, L.J., \"The NASA Ames PAH IR Spectroscopic\n",
      "    database version 2.00: updated content, website and on/offline tools\",\n",
      "    2014, The Astrophysical Journal Supplement Series, 211, 8\n",
      "\n",
      "    A copy of the paper can be downloaded from NASA&apos;s ADS services:\n",
      "\n",
      "    http://adsabs.harvard.edu/cgi-bin/nph-data_query?bibcode=2014ApJS..211....8B&link_type=ARTICLE&db_key=AST&nocookies=1\n",
      "\n",
      "    Bauschlicher, C.W., Jr., Boersma, C., Ricca, A., Mattioda, A. L.,\n",
      "    Cami, J., Peeters, E., Sánchez de Armas, F., Puerta Saborido, G.,\n",
      "    Hudgins, D M., and Allamandola, L.J., \"The NASA Ames Polycyclic\n",
      "    Aromatic Hydrocarbon Infrared Spectroscopic Database: The Computed\n",
      "    Spectra\", 2010, The Astrophysical Journal Supplement Series, 189, 341\n",
      "\n",
      "    A copy of the paper can be downloaded from NASA&apos;s ADS services:\n",
      "\n",
      "    http://adsabs.harvard.edu/cgi-bin/nph-data_query?bibcode=2010ApJS..189..341B&link_type=ARTICLE&db_key=AST&nocookies=1\n",
      "\n",
      "    Mattioda, A.L., Hudgins, D.M., Boersma, C., Ricca, A., Peeters,\n",
      "    E., Cami, J., Sánches de Armas, F., Puerta Saborido, G.,\n",
      "    Bauschlicher, C W., J., and Allamandola, L.J. \"The Nasa Ames PAH\n",
      "    IR Spectroscopic Database: The Laboratory Spectra\", 2020, The\n",
      "    Astrophysical Journal Supplement Series, 251, 22\n",
      "\n",
      "    A copy of the paper can be downloaded from NASA&apos;s ADS services:\n",
      "\n",
      "    http://adsabs.harvard.edu/cgi-bin/nph-data_query?bibcode=2020ApJS..251...22M &link_type=ARTICLE&db_key=AST&nocookies=1\n",
      "\n",
      "    Also see http://www.astrochemistry.org/pahdb/theoretical/4.00/help/citation.\n",
      "Notes:\n",
      "    Version 4.00 includes PAHs with a varying number of bay regions and trio hydrogens. The structures have been obtained using the enumeration algorithm from Caporossi and Hansen (1998) J. Chem. Inf. Comput. Sci., 38, 610. Computations were performed using the 6-31G* basis set.\n",
      "\n",
      "Version 3.20 adds a large number of totally resonant sextet (TRS) PAHs, denoted as \"Clar PAHs\" for simplicity, containing armchair edges with a number of carbons ranging from 18 up to 150. The spectra of both neutral and charged (cations and anions) Clar PAHs are added.\n",
      "\n",
      "Version 3.10 (internal) added the PAHs containing only straight edges as described in Ricca et al. (2018), which include even-carbon (neutral and charged) PAHs ranging in size from C₂₂H₁₂ to C₁₄₈H₃₀ and odd-carbon (neutral and charged) PAHs ranging in size from C₃₁H₁₅ to C₁₂₇H₃₁.\n",
      "\n",
      "Version 3.00 introduced multiple scale factors and has the Gaussian options for each run are more fully described. A large number of new species were added, including species with 5- and 7- membered rings, additional oval species, species with bay regions, species with side groups, some acridene species, and the neutral species from Mackie et al. (2015), with 1525 CnHm and 803 fully dehydrogenates species.\n",
      "\n",
      "==\n",
      "\n"
     ]
    }
   ],
   "source": [
    "# Testing the AmesPAHdb class from amespahdbpythonsuite and readibility of the XML file\n",
    "import pandas as pd\n",
    "from amespahdbpythonsuite.amespahdb import AmesPAHdb\n",
    "pahdb = AmesPAHdb(filename='/Users/Mustafa/Documents/GitHub/Project-Cynap/Cynapfolder/Database/pahdb-complete-theoretical-v4.00-alpha.xml', cache=True, check=False)"
   ]
  },
  {
   "cell_type": "code",
   "execution_count": null,
   "id": "ed0d660f",
   "metadata": {},
   "outputs": [
    {
     "name": "stdout",
     "output_type": "stream",
     "text": [
      "AmesPAHdbPythonSuite Species instance.\n",
      "self.uids=[465, 463, 466, 464]\n"
     ]
    }
   ],
   "source": [
    "# Shows UIDS of neutral and cation cyanonaphthalene molecules\n",
    "uids = pahdb.search(\"c=11 n=1\") \n",
    "\n",
    "pahs = pahdb.getspeciesbyuid(uids)\n",
    "\n",
    "print(pahs)"
   ]
  },
  {
   "cell_type": "code",
   "execution_count": 36,
   "id": "b8ad1100",
   "metadata": {},
   "outputs": [
    {
     "data": {
      "image/png": "[encoded data removed]",
      "text/plain": [
       "<Figure size 640x480 with 1 Axes>"
      ]
     },
     "metadata": {},
     "output_type": "display_data"
    },
    {
     "name": "stdout",
     "output_type": "stream",
     "text": [
      "=========================================================\n",
      "         WRITTEN: neutral1cyano_transitions.tbl        \n",
      "=========================================================\n",
      "\n"
     ]
    }
   ],
   "source": [
    "# Plotting & extracting the vibrational frequency data of 1-cyanonaphthalene in a table (UID = 465)\n",
    "transitions = pahdb.gettransitionsbyuid(uids[0])\n",
    "transitions.plot(show=True)\n",
    "transitions.write('neutral1cyano_transitions.tbl')"
   ]
  },
  {
   "cell_type": "code",
   "execution_count": 37,
   "id": "42d44521",
   "metadata": {},
   "outputs": [
    {
     "name": "stdout",
     "output_type": "stream",
     "text": [
      "[433.90152085, 745.5484065100001, 773.30740476, 1423.56508192, 1914.4869383199998, 2954.1275981000003, 2965.04027945, 2968.5415909000003]\n"
     ]
    }
   ],
   "source": [
    "# Reading of the full transitions table for 1-cyanonaphthalene\n",
    "df = pd.read_csv('/Users/Mustafa/Documents/GitHub/Project-Cynap/Cynapfolder/neutral1cyano_transitions.tbl', \n",
    "                 skiprows=11, \n",
    "                 sep='\\s+', \n",
    "                 names=[\"UID\", \"FREQUENCY\", \"INTENSITY\", \"SCALE\", \"SYMMETRY\"])\n",
    "\n",
    "# Apply the scaling to get accurate physical frequencies\n",
    "df['FREQUENCY_SCALED'] = df['FREQUENCY'] * df['SCALE']\n",
    "\n",
    "# Filter frequency rows where the INTENSITY is larger than 10\n",
    "filtered_df = df[df['INTENSITY'] > 10]\n",
    "\n",
    "# Gets the filtered physical frequencies in a list based on the intensity threshold\n",
    "strong_frequencies_list = filtered_df['FREQUENCY_SCALED'].tolist()\n",
    "\n",
    "print(strong_frequencies_list)\n",
    "\n",
    "# Save the strong frequencies to a CSV file\n",
    "pd.Series(strong_frequencies_list).to_csv('strong_frequencies_neutral1cyano.csv', index=False, header=False)"
   ]
  },
  {
   "cell_type": "code",
   "execution_count": 38,
   "id": "dd1e318b",
   "metadata": {},
   "outputs": [
    {
     "data": {
      "image/png": "[encoded data removed]",
      "text/plain": [
       "<Figure size 640x480 with 1 Axes>"
      ]
     },
     "metadata": {},
     "output_type": "display_data"
    }
   ],
   "source": [
    "geometry = pahdb.getgeometrybyuid(uids[0])\n",
    "\n",
    "geometry.plot(uids[0])\n",
    "\n",
    "# img = geometry.structure(uids[0])\n",
    "\n",
    "# masses = geometry.mass()\n",
    "\n",
    "# rings = geometry.rings()\n",
    "\n",
    "# areas = geometry.area()\n",
    "\n",
    "# matrix = geometry.inertia()\n",
    "\n",
    "# print(masses)\n",
    "# print(rings)\n",
    "# print(areas)\n",
    "# print(matrix)"
   ]
  }
 ],
 "metadata": {
  "kernelspec": {
   "display_name": "pahdb",
   "language": "python",
   "name": "python3"
  },
  "language_info": {
   "codemirror_mode": {
    "name": "ipython",
    "version": 3
   },
   "file_extension": ".py",
   "mimetype": "text/x-python",
   "name": "python",
   "nbconvert_exporter": "python",
   "pygments_lexer": "ipython3",
   "version": "3.10.16"
  }
 },
 "nbformat": 4,
 "nbformat_minor": 5
}
