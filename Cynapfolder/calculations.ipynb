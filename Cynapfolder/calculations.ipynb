{
 "cells": [
  {
   "cell_type": "code",
   "execution_count": null,
   "id": "16996de1",
   "metadata": {},
   "outputs": [],
   "source": [
    "# This code provides basic functions for properties of polycyclic aromatic hydrocarbons (PAHs),\n",
    "# specifically cyanonaphthalene, without using vibrational frequency data from AmesPAHdb.\n",
    "\n",
    "def approx_surface_area_pah(Nc): \n",
    "    \"\"\"\"\n",
    "    Estimate the surface area of a PAH molecule.\n",
    "    Parameters:\n",
    "        Nc (int): Number of carbon atoms.\n",
    "    Returns:\n",
    "        float: Surface area in cm^2.\n",
    "    \"\"\"\n",
    "    s_area = 5 * 10**(-16) * Nc\n",
    "    return s_area\n",
    "\n",
    "def approx_radius_pah(Nc):\n",
    "    \"\"\"Estimate the radius of a PAH molecule in cm.\"\"\"\n",
    "    a = 0.9 * 10**(-8) * Nc**(1/2)\n",
    "    return a\n",
    "\n",
    "def FUV_absorption_cross_section(Nc):\n",
    "    \"\"\"Estimate the FUV absorption cross section in cm^2.\"\"\"\n",
    "    sigma = 7 * 10**(-18) * Nc\n",
    "    return sigma\n",
    "\n",
    "def UV_absorption_timescale(Nc,G0):\n",
    "    \"\"\"Estimate the UV absorption timescale in seconds.\"\"\"\n",
    "    t_UV = 1.4 * 10**(9) / (Nc*G0)\n",
    "    return t_UV\n",
    "\n",
    "def vibrational_degrees_of_freedom(N):\n",
    "    \"\"\"Calculate the number of vibrational degrees of freedom for a PAH.\"\"\"\n",
    "    return 3*N - 6\n",
    "\n",
    "# PARAMETERS FOR CYANONAPHTHALENE\n",
    "N = 19     # total number of atoms\n",
    "Nc = 11    # number of carbon atoms\n",
    "G0 = 1.7   # Habing field (ISM value)\n",
    "\n",
    "# CALCULATIONS\n",
    "print(\"Vibrational degrees of freedom:\", vibrational_degrees_of_freedom(N))\n",
    "print(\"Surface area:\", approx_surface_area_pah(Nc), \"cm^2\")\n",
    "print(\"Radius:\", approx_radius_pah(Nc), \"cm\")\n",
    "print(\"FUV cross section:\", FUV_absorption_cross_section(Nc), \"cm^2\")\n",
    "\n",
    "t_UV = UV_absorption_timescale(Nc, G0)\n",
    "print(\"UV absorption timescale:\", t_UV, \"seconds\")\n",
    "print(\"In years:\", t_UV / 3.154e7, \"years\")"
   ]
  }
 ],
 "metadata": {
  "kernelspec": {
   "display_name": "pahdb",
   "language": "python",
   "name": "python3"
  },
  "language_info": {
   "name": "python",
   "version": "3.10.16"
  }
 },
 "nbformat": 4,
 "nbformat_minor": 5
}
